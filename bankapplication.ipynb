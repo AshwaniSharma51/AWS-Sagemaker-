{
 "cells": [
  {
   "cell_type": "code",
   "execution_count": 45,
   "id": "2975ee5e-47ce-4a94-b671-702184fab390",
   "metadata": {},
   "outputs": [],
   "source": [
    "import sagemaker\n",
    "import boto3\n",
    "from sagemaker.estimator import Estimator\n",
    "from sagemaker import image_uris, get_execution_role\n",
    "from sagemaker.session import s3_input, Session"
   ]
  },
  {
   "cell_type": "code",
   "execution_count": 27,
   "id": "10931245-7fb0-4b21-abd8-cde89738ad03",
   "metadata": {},
   "outputs": [],
   "source": [
    "import os\n",
    "from sagemaker.inputs import TrainingInput"
   ]
  },
  {
   "cell_type": "code",
   "execution_count": 21,
   "id": "769a13eb-3cd2-4987-a882-c17e3ab8bef6",
   "metadata": {},
   "outputs": [
    {
     "name": "stdout",
     "output_type": "stream",
     "text": [
      "us-east-1\n"
     ]
    }
   ],
   "source": [
    "bucket_name = 'bankapplication-bucket112233'           #  unique name for bucket\n",
    "my_region = boto3.session.Session().region_name     # to set the region of the instance\n",
    "print(my_region)"
   ]
  },
  {
   "cell_type": "code",
   "execution_count": 22,
   "id": "b068de4b-a275-4922-b1a9-e48c08d78b9c",
   "metadata": {},
   "outputs": [
    {
     "name": "stdout",
     "output_type": "stream",
     "text": [
      "session region: us-east-1\n",
      "client region : us-east-1\n",
      "AWS_DEFAULT_REGION: None\n",
      "AWS_REGION: None\n",
      "S3 bucket created successfully\n"
     ]
    }
   ],
   "source": [
    "session = boto3.session.Session(region_name=my_region)\n",
    "\n",
    "# Bind client to us-east-1 (optionally force the global endpoint)\n",
    "s3 = session.client(\n",
    "    \"s3\",\n",
    "    region_name=\"us-east-1\",\n",
    "    endpoint_url=\"https://s3.amazonaws.com\",   # <-- ensures us-east-1 global endpoint\n",
    ")\n",
    "\n",
    "# to verify where the client is actually pointing\n",
    "print(\"session region:\", session.region_name)\n",
    "print(\"client region :\", s3.meta.region_name)\n",
    "print(\"AWS_DEFAULT_REGION:\", os.environ.get(\"AWS_DEFAULT_REGION\"))\n",
    "print(\"AWS_REGION:\", os.environ.get(\"AWS_REGION\"))\n",
    "\n",
    "try:\n",
    "    # For us-east-1 you MUST NOT send CreateBucketConfiguration\n",
    "    s3.create_bucket(Bucket=bucket_name)\n",
    "    print(\"S3 bucket created successfully\")\n",
    "except Exception as e:\n",
    "    print(\"S3 error:\", e)"
   ]
  },
  {
   "cell_type": "code",
   "execution_count": 23,
   "id": "a6bb0870-a5e6-4280-9b26-af84e020ba38",
   "metadata": {},
   "outputs": [
    {
     "name": "stdout",
     "output_type": "stream",
     "text": [
      "s3://bankapplication-bucket112233/xgboost-built-in-algo/output\n"
     ]
    }
   ],
   "source": [
    "# set an output path where the trained model will be saved\n",
    "prefix = 'xgboost-built-in-algo'\n",
    "output_path ='s3://{}/{}/output'.format(bucket_name, prefix)\n",
    "print(output_path)"
   ]
  },
  {
   "cell_type": "markdown",
   "id": "4023f10e-a153-460f-a1fc-ab8c1a4c51b8",
   "metadata": {},
   "source": [
    "### Downloading The Dataset And Storing in S3"
   ]
  },
  {
   "cell_type": "code",
   "execution_count": 24,
   "id": "e40e2b64-e8be-4cb6-9211-284bc5ffdf13",
   "metadata": {},
   "outputs": [
    {
     "name": "stdout",
     "output_type": "stream",
     "text": [
      "Success: downloaded bank_clean.csv.\n",
      "Success: Data loaded into dataframe.\n"
     ]
    }
   ],
   "source": [
    "import pandas as pd\n",
    "import urllib\n",
    "try:\n",
    "    urllib.request.urlretrieve (\"https://d1.awsstatic.com/tmt/build-train-deploy-machine-learning-model-sagemaker/bank_clean.27f01fbbdf43271788427f3682996ae29ceca05d.csv\", \"bank_clean.csv\")\n",
    "    print('Success: downloaded bank_clean.csv.')\n",
    "except Exception as e:\n",
    "    print('Data load error: ',e)\n",
    "\n",
    "try:\n",
    "    model_data = pd.read_csv('./bank_clean.csv',index_col=0)\n",
    "    print('Success: Data loaded into dataframe.')\n",
    "except Exception as e:\n",
    "    print('Data load error: ',e)"
   ]
  },
  {
   "cell_type": "code",
   "execution_count": 25,
   "id": "88861c56-5891-4dd1-aa39-26c9e76e987f",
   "metadata": {},
   "outputs": [
    {
     "name": "stdout",
     "output_type": "stream",
     "text": [
      "(28831, 61) (12357, 61)\n"
     ]
    },
    {
     "name": "stderr",
     "output_type": "stream",
     "text": [
      "/home/ec2-user/anaconda3/envs/python3/lib/python3.10/site-packages/numpy/core/fromnumeric.py:59: FutureWarning: 'DataFrame.swapaxes' is deprecated and will be removed in a future version. Please use 'DataFrame.transpose' instead.\n",
      "  return bound(*args, **kwds)\n"
     ]
    }
   ],
   "source": [
    "### Train Test split\n",
    "\n",
    "import numpy as np\n",
    "train_data, test_data = np.split(model_data.sample(frac=1, random_state=1729), [int(0.7 * len(model_data))])\n",
    "print(train_data.shape, test_data.shape)\n",
    "     "
   ]
  },
  {
   "cell_type": "code",
   "execution_count": 29,
   "id": "7994f732-ac2c-40c5-9162-d690611ee68f",
   "metadata": {},
   "outputs": [],
   "source": [
    "### Saving Train And Test Into Buckets\n",
    "## We start with Train Data\n",
    "\n",
    "pd.concat([train_data['y_yes'], train_data.drop(['y_no', 'y_yes'], \n",
    "                                                axis=1)], \n",
    "                                                axis=1).to_csv('train.csv', index=False, header=False)\n",
    "boto3.Session().resource('s3').Bucket(bucket_name).Object(os.path.join(prefix, 'train/train.csv')).upload_file('train.csv')\n",
    "s3_input_train = TrainingInput(\n",
    "    s3_data=f's3://{bucket_name}/{prefix}/train',\n",
    "    content_type='text/csv'\n",
    ")"
   ]
  },
  {
   "cell_type": "code",
   "execution_count": 30,
   "id": "86cb6af7-cd52-4536-9ba1-02f41d0ec068",
   "metadata": {},
   "outputs": [],
   "source": [
    "# Test Data Into Buckets\n",
    "pd.concat([test_data['y_yes'], test_data.drop(['y_no', 'y_yes'], axis=1)], axis=1).to_csv('test.csv', index=False, header=False)\n",
    "boto3.Session().resource('s3').Bucket(bucket_name).Object(os.path.join(prefix, 'test/test.csv')).upload_file('test.csv')\n",
    "s3_input_test = TrainingInput(\n",
    "    s3_data=f's3://{bucket_name}/{prefix}/test',\n",
    "    content_type='text/csv'\n",
    ")"
   ]
  },
  {
   "cell_type": "markdown",
   "id": "e89a7f8f-e1bb-4d10-8433-c50b1812a499",
   "metadata": {},
   "source": [
    "#### Building Models Xgboot- Inbuilt Algorithm"
   ]
  },
  {
   "cell_type": "code",
   "execution_count": 40,
   "id": "c885c174-e8b2-481e-82cb-e52ed06138fb",
   "metadata": {},
   "outputs": [],
   "source": [
    "# this line automatically looks for the XGBoost image URI and builds an XGBoost container.\n",
    "# specify the repo_version depending on your preference.\n",
    "container = image_uris.retrieve(\n",
    "                framework=\"xgboost\",\n",
    "                region=my_region,\n",
    "                 version=\"1.7-1\"   # pick a supported version, e.g. \"1.7-1\"\n",
    "                    )"
   ]
  },
  {
   "cell_type": "code",
   "execution_count": 41,
   "id": "ef32a1db-e173-42e7-8290-3b559bd1f3dc",
   "metadata": {},
   "outputs": [],
   "source": [
    "# initialize hyperparameters\n",
    "hyperparameters = {\n",
    "        \"max_depth\":\"5\",\n",
    "        \"eta\":\"0.2\",\n",
    "        \"gamma\":\"4\",\n",
    "        \"min_child_weight\":\"6\",\n",
    "        \"subsample\":\"0.7\",\n",
    "        \"objective\":\"binary:logistic\",\n",
    "        \"num_round\":50\n",
    "        }"
   ]
  },
  {
   "cell_type": "code",
   "execution_count": 46,
   "id": "c8e7c876-6fac-46c7-b29a-3b97521e87fc",
   "metadata": {},
   "outputs": [],
   "source": [
    "# construct a SageMaker estimator that calls the xgboost-container\n",
    "estimator = Estimator(\n",
    "    image_uri=container,                   \n",
    "    hyperparameters=hyperparameters,\n",
    "    role=get_execution_role(),\n",
    "    instance_count=1,                        \n",
    "    instance_type=\"ml.m5.2xlarge\",           \n",
    "    volume_size=5,                           \n",
    "    output_path=output_path,\n",
    "    use_spot_instances=True,                 \n",
    "    max_run=300,                            \n",
    "    max_wait=600                            \n",
    ")"
   ]
  },
  {
   "cell_type": "code",
   "execution_count": 47,
   "id": "a514c99a-790a-4a55-b43b-90f27e55bdc7",
   "metadata": {},
   "outputs": [
    {
     "name": "stderr",
     "output_type": "stream",
     "text": [
      "INFO:sagemaker:Creating training-job with name: sagemaker-xgboost-2025-09-19-15-51-45-332\n"
     ]
    },
    {
     "name": "stdout",
     "output_type": "stream",
     "text": [
      "2025-09-19 15:51:46 Starting - Starting the training job...\n",
      "2025-09-19 15:52:20 Downloading - Downloading input data...\n",
      "2025-09-19 15:52:35 Downloading - Downloading the training image......\n",
      "2025-09-19 15:53:21 Training - Training image download completed. Training in progress..\u001b[34m/miniconda3/lib/python3.9/site-packages/sagemaker_containers/_server.py:22: UserWarning: pkg_resources is deprecated as an API. See https://setuptools.pypa.io/en/latest/pkg_resources.html. The pkg_resources package is slated for removal as early as 2025-11-30. Refrain from using this package or pin to Setuptools<81.\n",
      "  import pkg_resources\u001b[0m\n",
      "\u001b[34m[2025-09-19 15:53:44.201 ip-10-0-121-132.ec2.internal:7 INFO utils.py:28] RULE_JOB_STOP_SIGNAL_FILENAME: None\u001b[0m\n",
      "\u001b[34m[2025-09-19 15:53:44.267 ip-10-0-121-132.ec2.internal:7 INFO profiler_config_parser.py:111] User has disabled profiler.\u001b[0m\n",
      "\u001b[34m[2025-09-19:15:53:44:INFO] Imported framework sagemaker_xgboost_container.training\u001b[0m\n",
      "\u001b[34m[2025-09-19:15:53:44:INFO] Failed to parse hyperparameter objective value binary:logistic to Json.\u001b[0m\n",
      "\u001b[34mReturning the value itself\u001b[0m\n",
      "\u001b[34m[2025-09-19:15:53:44:INFO] No GPUs detected (normal if no gpus installed)\u001b[0m\n",
      "\u001b[34m[2025-09-19:15:53:44:INFO] Running XGBoost Sagemaker in algorithm mode\u001b[0m\n",
      "\u001b[34m[2025-09-19:15:53:44:INFO] Determined 0 GPU(s) available on the instance.\u001b[0m\n",
      "\u001b[34m[2025-09-19:15:53:44:INFO] Determined delimiter of CSV input is ','\u001b[0m\n",
      "\u001b[34m[2025-09-19:15:53:44:INFO] Determined delimiter of CSV input is ','\u001b[0m\n",
      "\u001b[34m[2025-09-19:15:53:44:INFO] File path /opt/ml/input/data/train of input files\u001b[0m\n",
      "\u001b[34m[2025-09-19:15:53:44:INFO] Making smlinks from folder /opt/ml/input/data/train to folder /tmp/sagemaker_xgboost_input_data\u001b[0m\n",
      "\u001b[34m[2025-09-19:15:53:44:INFO] creating symlink between Path /opt/ml/input/data/train/train.csv and destination /tmp/sagemaker_xgboost_input_data/train.csv-5995561587643490234\u001b[0m\n",
      "\u001b[34m[2025-09-19:15:53:44:INFO] files path: /tmp/sagemaker_xgboost_input_data\u001b[0m\n",
      "\u001b[34m[2025-09-19:15:53:44:INFO] Determined delimiter of CSV input is ','\u001b[0m\n",
      "\u001b[34m[2025-09-19:15:53:44:INFO] File path /opt/ml/input/data/validation of input files\u001b[0m\n",
      "\u001b[34m[2025-09-19:15:53:44:INFO] Making smlinks from folder /opt/ml/input/data/validation to folder /tmp/sagemaker_xgboost_input_data\u001b[0m\n",
      "\u001b[34m[2025-09-19:15:53:44:INFO] creating symlink between Path /opt/ml/input/data/validation/test.csv and destination /tmp/sagemaker_xgboost_input_data/test.csv8504078646447669866\u001b[0m\n",
      "\u001b[34m[2025-09-19:15:53:44:INFO] files path: /tmp/sagemaker_xgboost_input_data\u001b[0m\n",
      "\u001b[34m[2025-09-19:15:53:44:INFO] Determined delimiter of CSV input is ','\u001b[0m\n",
      "\u001b[34m[2025-09-19:15:53:44:INFO] Single node training.\u001b[0m\n",
      "\u001b[34m[2025-09-19:15:53:44:INFO] Train matrix has 28831 rows and 59 columns\u001b[0m\n",
      "\u001b[34m[2025-09-19:15:53:44:INFO] Validation matrix has 12357 rows\u001b[0m\n",
      "\u001b[34m[2025-09-19 15:53:44.715 ip-10-0-121-132.ec2.internal:7 INFO json_config.py:92] Creating hook from json_config at /opt/ml/input/config/debughookconfig.json.\u001b[0m\n",
      "\u001b[34m[2025-09-19 15:53:44.716 ip-10-0-121-132.ec2.internal:7 INFO hook.py:206] tensorboard_dir has not been set for the hook. SMDebug will not be exporting tensorboard summaries.\u001b[0m\n",
      "\u001b[34m[2025-09-19 15:53:44.716 ip-10-0-121-132.ec2.internal:7 INFO hook.py:259] Saving to /opt/ml/output/tensors\u001b[0m\n",
      "\u001b[34m[2025-09-19 15:53:44.716 ip-10-0-121-132.ec2.internal:7 INFO state_store.py:77] The checkpoint config file /opt/ml/input/config/checkpointconfig.json does not exist.\u001b[0m\n",
      "\u001b[34m[2025-09-19:15:53:44:INFO] Debug hook created from config\u001b[0m\n",
      "\u001b[34m[2025-09-19 15:53:44.821 ip-10-0-121-132.ec2.internal:7 INFO hook.py:427] Monitoring the collections: metrics\u001b[0m\n",
      "\u001b[34m[2025-09-19 15:53:44.826 ip-10-0-121-132.ec2.internal:7 INFO hook.py:491] Hook is writing from the hook with pid: 7\u001b[0m\n",
      "\u001b[34m[0]#011train-logloss:0.57287#011validation-logloss:0.57388\u001b[0m\n",
      "\u001b[34m[1]#011train-logloss:0.49295#011validation-logloss:0.49483\u001b[0m\n",
      "\u001b[34m[2]#011train-logloss:0.43699#011validation-logloss:0.44017\u001b[0m\n",
      "\u001b[34m[3]#011train-logloss:0.39663#011validation-logloss:0.40048\u001b[0m\n",
      "\u001b[34m[4]#011train-logloss:0.36733#011validation-logloss:0.37209\u001b[0m\n",
      "\u001b[34m[5]#011train-logloss:0.34574#011validation-logloss:0.35146\u001b[0m\n",
      "\u001b[34m[6]#011train-logloss:0.32987#011validation-logloss:0.33640\u001b[0m\n",
      "\u001b[34m[7]#011train-logloss:0.31788#011validation-logloss:0.32478\u001b[0m\n",
      "\u001b[34m[8]#011train-logloss:0.30914#011validation-logloss:0.31662\u001b[0m\n",
      "\u001b[34m[9]#011train-logloss:0.30226#011validation-logloss:0.31044\u001b[0m\n",
      "\u001b[34m[10]#011train-logloss:0.29718#011validation-logloss:0.30609\u001b[0m\n",
      "\u001b[34m[11]#011train-logloss:0.29317#011validation-logloss:0.30271\u001b[0m\n",
      "\u001b[34m[12]#011train-logloss:0.29028#011validation-logloss:0.30029\u001b[0m\n",
      "\u001b[34m[13]#011train-logloss:0.28766#011validation-logloss:0.29825\u001b[0m\n",
      "\u001b[34m[14]#011train-logloss:0.28567#011validation-logloss:0.29661\u001b[0m\n",
      "\u001b[34m[15]#011train-logloss:0.28434#011validation-logloss:0.29565\u001b[0m\n",
      "\u001b[34m[16]#011train-logloss:0.28328#011validation-logloss:0.29466\u001b[0m\n",
      "\u001b[34m[17]#011train-logloss:0.28189#011validation-logloss:0.29366\u001b[0m\n",
      "\u001b[34m[18]#011train-logloss:0.28103#011validation-logloss:0.29344\u001b[0m\n",
      "\u001b[34m[19]#011train-logloss:0.28020#011validation-logloss:0.29296\u001b[0m\n",
      "\u001b[34m[20]#011train-logloss:0.27964#011validation-logloss:0.29269\u001b[0m\n",
      "\u001b[34m[21]#011train-logloss:0.27923#011validation-logloss:0.29267\u001b[0m\n",
      "\u001b[34m[22]#011train-logloss:0.27900#011validation-logloss:0.29281\u001b[0m\n",
      "\u001b[34m[23]#011train-logloss:0.27840#011validation-logloss:0.29243\u001b[0m\n",
      "\u001b[34m[24]#011train-logloss:0.27799#011validation-logloss:0.29234\u001b[0m\n",
      "\u001b[34m[25]#011train-logloss:0.27755#011validation-logloss:0.29206\u001b[0m\n",
      "\u001b[34m[26]#011train-logloss:0.27718#011validation-logloss:0.29196\u001b[0m\n",
      "\u001b[34m[27]#011train-logloss:0.27688#011validation-logloss:0.29192\u001b[0m\n",
      "\u001b[34m[28]#011train-logloss:0.27663#011validation-logloss:0.29183\u001b[0m\n",
      "\u001b[34m[29]#011train-logloss:0.27642#011validation-logloss:0.29160\u001b[0m\n",
      "\u001b[34m[30]#011train-logloss:0.27613#011validation-logloss:0.29140\u001b[0m\n",
      "\u001b[34m[31]#011train-logloss:0.27585#011validation-logloss:0.29134\u001b[0m\n",
      "\u001b[34m[32]#011train-logloss:0.27554#011validation-logloss:0.29137\u001b[0m\n",
      "\u001b[34m[33]#011train-logloss:0.27516#011validation-logloss:0.29135\u001b[0m\n",
      "\u001b[34m[34]#011train-logloss:0.27511#011validation-logloss:0.29132\u001b[0m\n",
      "\u001b[34m[35]#011train-logloss:0.27494#011validation-logloss:0.29133\u001b[0m\n",
      "\u001b[34m[36]#011train-logloss:0.27468#011validation-logloss:0.29143\u001b[0m\n",
      "\u001b[34m[37]#011train-logloss:0.27429#011validation-logloss:0.29122\u001b[0m\n",
      "\u001b[34m[38]#011train-logloss:0.27401#011validation-logloss:0.29117\u001b[0m\n",
      "\u001b[34m[39]#011train-logloss:0.27385#011validation-logloss:0.29128\u001b[0m\n",
      "\u001b[34m[40]#011train-logloss:0.27366#011validation-logloss:0.29118\u001b[0m\n",
      "\u001b[34m[41]#011train-logloss:0.27351#011validation-logloss:0.29117\u001b[0m\n",
      "\u001b[34m[42]#011train-logloss:0.27316#011validation-logloss:0.29111\u001b[0m\n",
      "\u001b[34m[43]#011train-logloss:0.27294#011validation-logloss:0.29095\u001b[0m\n",
      "\u001b[34m[44]#011train-logloss:0.27274#011validation-logloss:0.29101\u001b[0m\n",
      "\u001b[34m[45]#011train-logloss:0.27253#011validation-logloss:0.29094\u001b[0m\n",
      "\u001b[34m[46]#011train-logloss:0.27240#011validation-logloss:0.29085\u001b[0m\n",
      "\u001b[34m[47]#011train-logloss:0.27223#011validation-logloss:0.29084\u001b[0m\n",
      "\u001b[34m[48]#011train-logloss:0.27210#011validation-logloss:0.29078\u001b[0m\n",
      "\u001b[34m[49]#011train-logloss:0.27198#011validation-logloss:0.29069\u001b[0m\n",
      "\n",
      "2025-09-19 15:54:04 Uploading - Uploading generated training model\n",
      "2025-09-19 15:54:04 Completed - Training job completed\n",
      "Training seconds: 104\n",
      "Billable seconds: 37\n",
      "Managed Spot Training savings: 64.4%\n"
     ]
    }
   ],
   "source": [
    "estimator.fit({'train': s3_input_train,'validation': s3_input_test})"
   ]
  },
  {
   "cell_type": "markdown",
   "id": "34470a82-0c12-4871-892b-f65f961c630e",
   "metadata": {},
   "source": [
    "#### Deploy Machine Learning Model As Endpoints"
   ]
  },
  {
   "cell_type": "code",
   "execution_count": 48,
   "id": "d8da6adc-8ee8-437f-b71e-9404877db561",
   "metadata": {},
   "outputs": [
    {
     "name": "stderr",
     "output_type": "stream",
     "text": [
      "INFO:sagemaker:Creating model with name: sagemaker-xgboost-2025-09-19-15-54-32-324\n",
      "INFO:sagemaker:Creating endpoint-config with name sagemaker-xgboost-2025-09-19-15-54-32-324\n",
      "INFO:sagemaker:Creating endpoint with name sagemaker-xgboost-2025-09-19-15-54-32-324\n"
     ]
    },
    {
     "name": "stdout",
     "output_type": "stream",
     "text": [
      "-------!"
     ]
    }
   ],
   "source": [
    "xgb_predictor = estimator.deploy(initial_instance_count=1,instance_type='ml.m4.xlarge')"
   ]
  },
  {
   "cell_type": "markdown",
   "id": "fcd8ba82-1cf8-4231-98e7-6f0a7530a606",
   "metadata": {},
   "source": [
    "#### Prediction of the Test Data"
   ]
  },
  {
   "cell_type": "code",
   "execution_count": 50,
   "id": "a65f9114-45da-45d0-a350-ab69b8dd2765",
   "metadata": {},
   "outputs": [
    {
     "name": "stdout",
     "output_type": "stream",
     "text": [
      "(12357,)\n"
     ]
    }
   ],
   "source": [
    "from sagemaker.serializers import CSVSerializer\n",
    "from sagemaker.deserializers import CSVDeserializer\n",
    "\n",
    "test_data_array = test_data.drop(['y_no','y_yes'], axis=1).to_numpy()\n",
    "\n",
    "# Set content type via serializer; no need to set .content_type manually\n",
    "xgb_predictor.serializer = CSVSerializer()            # sends 'text/csv'\n",
    "xgb_predictor.deserializer = CSVDeserializer()        # parse CSV back to Python\n",
    "\n",
    "predictions = xgb_predictor.predict(test_data_array)  # -> list of lists\n",
    "predictions_array = np.array([float(row[0]) for row in predictions])\n",
    "\n",
    "print(predictions_array.shape)"
   ]
  },
  {
   "cell_type": "code",
   "execution_count": 51,
   "id": "ad5d20c9-7609-423b-89dc-05716aaaa297",
   "metadata": {},
   "outputs": [
    {
     "data": {
      "text/plain": [
       "array([0.05214286, 0.05660191, 0.05096195, ..., 0.03436061, 0.02942475,\n",
       "       0.03715819])"
      ]
     },
     "execution_count": 51,
     "metadata": {},
     "output_type": "execute_result"
    }
   ],
   "source": [
    "predictions_array"
   ]
  },
  {
   "cell_type": "code",
   "execution_count": 52,
   "id": "4166ad59-8c65-4237-9fab-e392fe9b8b46",
   "metadata": {},
   "outputs": [
    {
     "name": "stdout",
     "output_type": "stream",
     "text": [
      "\n",
      "Overall Classification Rate: 89.7%\n",
      "\n",
      "Predicted      No Purchase    Purchase\n",
      "Observed\n",
      "No Purchase    91% (10785)    34% (151)\n",
      "Purchase        9% (1124)     66% (297) \n",
      "\n"
     ]
    }
   ],
   "source": [
    "cm = pd.crosstab(index=test_data['y_yes'], columns=np.round(predictions_array), rownames=['Observed'], colnames=['Predicted'])\n",
    "tn = cm.iloc[0,0]; fn = cm.iloc[1,0]; tp = cm.iloc[1,1]; fp = cm.iloc[0,1]; p = (tp+tn)/(tp+tn+fp+fn)*100\n",
    "print(\"\\n{0:<20}{1:<4.1f}%\\n\".format(\"Overall Classification Rate: \", p))\n",
    "print(\"{0:<15}{1:<15}{2:>8}\".format(\"Predicted\", \"No Purchase\", \"Purchase\"))\n",
    "print(\"Observed\")\n",
    "print(\"{0:<15}{1:<2.0f}% ({2:<}){3:>6.0f}% ({4:<})\".format(\"No Purchase\", tn/(tn+fn)*100,tn, fp/(tp+fp)*100, fp))\n",
    "print(\"{0:<16}{1:<1.0f}% ({2:<}){3:>7.0f}% ({4:<}) \\n\".format(\"Purchase\", fn/(tn+fn)*100,fn, tp/(tp+fp)*100, tp))"
   ]
  },
  {
   "cell_type": "markdown",
   "id": "f5bb25c5-95e5-4418-985a-0875c4d99ba1",
   "metadata": {},
   "source": [
    "#### Deleting The Endpoints"
   ]
  },
  {
   "cell_type": "code",
   "execution_count": 53,
   "id": "56548047-52e6-4528-b386-9c09ff2df77f",
   "metadata": {},
   "outputs": [
    {
     "name": "stderr",
     "output_type": "stream",
     "text": [
      "WARNING:sagemaker.deprecations:The endpoint attribute has been renamed in sagemaker>=2.\n",
      "See: https://sagemaker.readthedocs.io/en/stable/v2.html for details.\n",
      "INFO:sagemaker:Deleting endpoint with name: sagemaker-xgboost-2025-09-19-15-54-32-324\n"
     ]
    },
    {
     "data": {
      "text/plain": [
       "[{'ResponseMetadata': {'RequestId': 'Y9SAGZZ1P8X13TEJ',\n",
       "   'HostId': 'MV98e59WCIdH1s8pRWh15jrA644KXIGMscAcoR07NZwOrF7eG9Lixi5zaZ+j6Glou+jnuIPF/ztN78gWy8vEMyotOPhi4eL/',\n",
       "   'HTTPStatusCode': 200,\n",
       "   'HTTPHeaders': {'x-amz-id-2': 'MV98e59WCIdH1s8pRWh15jrA644KXIGMscAcoR07NZwOrF7eG9Lixi5zaZ+j6Glou+jnuIPF/ztN78gWy8vEMyotOPhi4eL/',\n",
       "    'x-amz-request-id': 'Y9SAGZZ1P8X13TEJ',\n",
       "    'date': 'Fri, 19 Sep 2025 16:01:00 GMT',\n",
       "    'connection': 'close',\n",
       "    'content-type': 'application/xml',\n",
       "    'transfer-encoding': 'chunked',\n",
       "    'server': 'AmazonS3'},\n",
       "   'RetryAttempts': 0},\n",
       "  'Deleted': [{'Key': 'xgboost-built-in-algo/output/sagemaker-xgboost-2025-09-19-15-51-45-332/debug-output/claim.smd'},\n",
       "   {'Key': 'xgboost-built-in-algo/output/sagemaker-xgboost-2025-09-19-15-51-45-332/profiler-output/framework/training_job_end.ts'},\n",
       "   {'Key': 'xgboost-built-in-algo/output/sagemaker-xgboost-2025-09-19-15-51-45-332/debug-output/events/000000000030/000000000030_worker_0.tfevents'},\n",
       "   {'Key': 'xgboost-built-in-algo/output/sagemaker-xgboost-2025-09-19-15-51-45-332/profiler-output/system/incremental/2025091915/1758297180.algo-1.json'},\n",
       "   {'Key': 'xgboost-built-in-algo/output/sagemaker-xgboost-2025-09-19-15-51-45-332/debug-output/index/000000000/000000000000_worker_0.json'},\n",
       "   {'Key': 'xgboost-built-in-algo/output/sagemaker-xgboost-2025-09-19-15-51-45-332/debug-output/index/000000000/000000000010_worker_0.json'},\n",
       "   {'Key': 'xgboost-built-in-algo/output/sagemaker-xgboost-2025-09-19-15-51-45-332/debug-output/index/000000000/000000000030_worker_0.json'},\n",
       "   {'Key': 'xgboost-built-in-algo/output/sagemaker-xgboost-2025-09-19-15-51-45-332/debug-output/training_job_end.ts'},\n",
       "   {'Key': 'xgboost-built-in-algo/output/sagemaker-xgboost-2025-09-19-15-51-45-332/output/model.tar.gz'},\n",
       "   {'Key': 'xgboost-built-in-algo/output/sagemaker-xgboost-2025-09-19-15-51-45-332/debug-output/events/000000000010/000000000010_worker_0.tfevents'},\n",
       "   {'Key': 'xgboost-built-in-algo/output/sagemaker-xgboost-2025-09-19-15-51-45-332/debug-output/events/000000000000/000000000000_worker_0.tfevents'},\n",
       "   {'Key': 'xgboost-built-in-algo/output/sagemaker-xgboost-2025-09-19-15-51-45-332/debug-output/events/000000000020/000000000020_worker_0.tfevents'},\n",
       "   {'Key': 'xgboost-built-in-algo/output/sagemaker-xgboost-2025-09-19-15-51-45-332/profiler-output/system/incremental/2025091915/1758297120.algo-1.json'},\n",
       "   {'Key': 'xgboost-built-in-algo/output/sagemaker-xgboost-2025-09-19-15-51-45-332/debug-output/events/000000000040/000000000040_worker_0.tfevents'},\n",
       "   {'Key': 'xgboost-built-in-algo/output/sagemaker-xgboost-2025-09-19-15-51-45-332/debug-output/index/000000000/000000000040_worker_0.json'},\n",
       "   {'Key': 'xgboost-built-in-algo/output/sagemaker-xgboost-2025-09-19-15-51-45-332/debug-output/index/000000000/000000000020_worker_0.json'},\n",
       "   {'Key': 'xgboost-built-in-algo/test/test.csv'},\n",
       "   {'Key': 'xgboost-built-in-algo/train/train.csv'},\n",
       "   {'Key': 'xgboost-built-in-algo/output/sagemaker-xgboost-2025-09-19-15-51-45-332/debug-output/collections/000000000/worker_0_collections.json'},\n",
       "   {'Key': 'xgboost-built-in-algo/output/sagemaker-xgboost-2025-09-19-15-51-45-332/profiler-output/system/training_job_end.ts'}]}]"
      ]
     },
     "execution_count": 53,
     "metadata": {},
     "output_type": "execute_result"
    }
   ],
   "source": [
    "sagemaker.Session().delete_endpoint(xgb_predictor.endpoint)\n",
    "bucket_to_delete = boto3.resource('s3').Bucket(bucket_name)\n",
    "bucket_to_delete.objects.all().delete()"
   ]
  }
 ],
 "metadata": {
  "kernelspec": {
   "display_name": "conda_python3",
   "language": "python",
   "name": "conda_python3"
  },
  "language_info": {
   "codemirror_mode": {
    "name": "ipython",
    "version": 3
   },
   "file_extension": ".py",
   "mimetype": "text/x-python",
   "name": "python",
   "nbconvert_exporter": "python",
   "pygments_lexer": "ipython3",
   "version": "3.10.18"
  }
 },
 "nbformat": 4,
 "nbformat_minor": 5
}
